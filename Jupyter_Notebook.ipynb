{
 "cells": [
  {
   "cell_type": "markdown",
   "metadata": {},
   "source": [
    "<center>\n",
    "    <img src=\"https://cf-courses-data.s3.us.cloud-object-storage.appdomain.cloud/IBMDeveloperSkillsNetwork-DS0105EN-SkillsNetwork/labs/Module2/images/SN_web_lightmode.png\" width=\"300\" alt=\"cognitiveclass.ai logo\">\n",
    "</center>\n"
   ]
  },
  {
   "cell_type": "markdown",
   "metadata": {},
   "source": [
    "### This is the title"
   ]
  },
  {
   "cell_type": "markdown",
   "metadata": {
    "tags": []
   },
   "source": [
    "This section is to act as an introduction: "
   ]
  },
  {
   "cell_type": "markdown",
   "metadata": {},
   "source": [
    "3 data science languages include\n",
    "\n",
    "* python\n",
    "* R\n",
    "* SQl"
   ]
  },
  {
   "cell_type": "markdown",
   "metadata": {},
   "source": [
    "Some Data science Librarys are \n",
    "\n",
    "* ggplot --> R\n",
    "* matplotlib --> python\n",
    "* numpy --> python\n",
    "* pandas --> python"
   ]
  },
  {
   "cell_type": "markdown",
   "metadata": {},
   "source": [
    "## Data Science Tools\n",
    "\n",
    "| **Tool**             | **Category**               |\n",
    "|----------------------|----------------------------|\n",
    "| **Python**           | Programming Language       |\n",
    "| **R**                | Programming Language       |\n",
    "| **Jupyter Notebook** | Interactive Computing      |\n",
    "| **Pandas**           | Data Manipulation          |\n",
    "| **NumPy**            | Numerical Computing        |\n",
    "| **Matplotlib**       | Data Visualization         |\n",
    "| **Seaborn**          | Data Visualization         |\n",
    "| **Scikit-learn**     | Machine Learning           |\n",
    "| **TensorFlow**       | Deep Learning              |\n",
    "| **Keras**            | Deep Learning              |\n",
    "| **Apache Spark**     | Big Data Processing        |\n",
    "| **Hadoop**           | Big Data Storage and Processing |\n",
    "| **Tableau**          | Data Visualization         |\n",
    "| **Power BI**         | Data Visualization         |\n",
    "| **SQL**              | Database Management        |\n",
    "| **RapidMiner**       | Data Science Platform      |\n",
    "| **Watson Studio**    | Data Science Platform      |\n"
   ]
  },
  {
   "cell_type": "markdown",
   "metadata": {},
   "source": [
    "## Arithmetic Expressions in Data Science\n",
    "\n",
    "Arithmetic expressions are fundamental in data science, as they are used to perform calculations and data manipulation. Common arithmetic operations include addition, subtraction, multiplication, and division. Below are some examples of how these operations are used in data science:\n",
    "\n",
    "- **Addition (+)**: Combining two or more numbers or datasets.\n",
    "- **Subtraction (-)**: Finding the difference between two numbers or datasets.\n",
    "- **Multiplication (*)**: Scaling numbers or datasets.\n",
    "- **Division (/)**: Dividing one number or dataset by another.\n",
    "\n"
   ]
  },
  {
   "cell_type": "code",
   "execution_count": 3,
   "metadata": {
    "tags": []
   },
   "outputs": [
    {
     "name": "stdout",
     "output_type": "stream",
     "text": [
      "7\n",
      "10\n"
     ]
    }
   ],
   "source": [
    "# Adding numbers\n",
    "\n",
    "print(5 + 2)\n",
    "print(5 * 2)"
   ]
  },
  {
   "cell_type": "code",
   "execution_count": 6,
   "metadata": {
    "tags": []
   },
   "outputs": [
    {
     "data": {
      "text/plain": [
       "3.0"
      ]
     },
     "execution_count": 6,
     "metadata": {},
     "output_type": "execute_result"
    }
   ],
   "source": [
    "def minutes_to_hours(minutes: int) -> float:\n",
    "    return minutes / 60\n",
    "\n",
    "# example\n",
    "minutes_to_hours(180)"
   ]
  },
  {
   "cell_type": "markdown",
   "metadata": {},
   "source": [
    "## Objectives: \n",
    "\n",
    "* Understand core ideas behind data science\n",
    "* complete this course\n",
    "* understand how programming and math can be used to better understand the world we see"
   ]
  },
  {
   "cell_type": "markdown",
   "metadata": {},
   "source": [
    "## Author: Alex Lee"
   ]
  },
  {
   "cell_type": "code",
   "execution_count": null,
   "metadata": {},
   "outputs": [],
   "source": []
  }
 ],
 "metadata": {
  "kernelspec": {
   "display_name": "Python",
   "language": "python",
   "name": "conda-env-python-py"
  },
  "language_info": {
   "codemirror_mode": {
    "name": "ipython",
    "version": 3
   },
   "file_extension": ".py",
   "mimetype": "text/x-python",
   "name": "python",
   "nbconvert_exporter": "python",
   "pygments_lexer": "ipython3",
   "version": "3.7.12"
  }
 },
 "nbformat": 4,
 "nbformat_minor": 4
}
